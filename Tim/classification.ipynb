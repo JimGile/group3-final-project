{
 "cells": [
  {
   "cell_type": "code",
   "execution_count": null,
   "metadata": {},
   "outputs": [],
   "source": [
    "import openai\n",
    "import os\n",
    "import pandas as pd\n"
   ]
  },
  {
   "cell_type": "code",
   "execution_count": null,
   "metadata": {},
   "outputs": [],
   "source": [
    "# Set up OpenAI API key\n",
    "openai.api_key = os.getenv(\"OPENAI_API_KEY\")  # Load API key from environment"
   ]
  },
  {
   "cell_type": "code",
   "execution_count": null,
   "metadata": {},
   "outputs": [],
   "source": [
    "def classify_email(email_text):\n",
    "    messages = [\n",
    "        {\"role\": \"system\", \"content\": \"You are an assistant that classifies emails.\"},\n",
    "        {\"role\": \"user\", \"content\": f\"I have the following email content:\\n\\n{email_text}\\n\\nClassify this email into one of these categories: Complaint, Inquiry, Support Request, Feedback, Other.\"}\n",
    "    ]\n",
    "    \n",
    "    try:\n",
    "        response = openai.ChatCompletion.create(\n",
    "            model=\"gpt-4\",  # Specify GPT-4 as the model\n",
    "            messages=messages,\n",
    "            max_tokens=20,\n",
    "            temperature=0.0  # Low temperature for more deterministic results\n",
    "        )\n",
    "        \n",
    "        return response['choices'][0]['message']['content'].strip()\n",
    "    \n"
   ]
  },
  {
   "cell_type": "code",
   "execution_count": null,
   "metadata": {},
   "outputs": [],
   "source": [
    "\n",
    "df = pd.read_csv('Resources/scrubbed_data.csv')\n",
    "df.head()"
   ]
  },
  {
   "cell_type": "code",
   "execution_count": null,
   "metadata": {},
   "outputs": [],
   "source": [
    "df['category'] = df['constituent_email_1'].apply(classify_email)"
   ]
  }
 ],
 "metadata": {
  "kernelspec": {
   "display_name": "base",
   "language": "python",
   "name": "python3"
  },
  "language_info": {
   "codemirror_mode": {
    "name": "ipython",
    "version": 3
   },
   "file_extension": ".py",
   "mimetype": "text/x-python",
   "name": "python",
   "nbconvert_exporter": "python",
   "pygments_lexer": "ipython3",
   "version": "3.11.7"
  }
 },
 "nbformat": 4,
 "nbformat_minor": 2
}
