{
 "cells": [
  {
   "cell_type": "code",
   "execution_count": 1,
   "metadata": {},
   "outputs": [
    {
     "name": "stderr",
     "output_type": "stream",
     "text": [
      "/opt/anaconda3/lib/python3.11/site-packages/starlette/formparsers.py:12: FutureWarning: Please use `import python_multipart` instead.\n",
      "  import multipart\n"
     ]
    }
   ],
   "source": [
    "import gradio as gr\n",
    "import tf_keras as keras\n",
    "from transformers import pipeline\n",
    "import json\n",
    "\n"
   ]
  },
  {
   "cell_type": "code",
   "execution_count": 2,
   "metadata": {},
   "outputs": [
    {
     "name": "stderr",
     "output_type": "stream",
     "text": [
      "Hardware accelerator e.g. GPU is available in the environment, but no `device` argument is passed to the `Pipeline` object. Model will be on CPU.\n"
     ]
    }
   ],
   "source": [
    "# Load a pre-trained text generation model from Hugging Face\n",
    "model = pipeline(\"text-generation\", model=\"gpt2\")"
   ]
  },
  {
   "cell_type": "code",
   "execution_count": 3,
   "metadata": {},
   "outputs": [],
   "source": [
    "# Function to get model response and collect user feedback\n",
    "def generate_response(user_input, feedback=None):\n",
    "    # Generate model response\n",
    "    response = model(user_input, max_length=50, num_return_sequences=1)[0][\"generated_text\"]\n",
    "\n",
    "    # Save the feedback to a JSON file for simplicity\n",
    "    if feedback is not None:\n",
    "        feedback_data = {\n",
    "            \"user_input\": user_input,\n",
    "            \"response\": response,\n",
    "            \"feedback\": feedback\n",
    "        }\n",
    "        with open(\"feedback.json\", \"a\") as f:\n",
    "            f.write(json.dumps(feedback_data) + \"\\n\")\n",
    "\n",
    "    return response\n"
   ]
  },
  {
   "cell_type": "code",
   "execution_count": 4,
   "metadata": {},
   "outputs": [],
   "source": [
    "# Gradio interface function to manage feedback and display response\n",
    "def feedback_interface(user_input, feedback=None):\n",
    "    response = generate_response(user_input, feedback)\n",
    "    return response\n"
   ]
  },
  {
   "cell_type": "code",
   "execution_count": 5,
   "metadata": {},
   "outputs": [
    {
     "name": "stdout",
     "output_type": "stream",
     "text": [
      "* Running on local URL:  http://127.0.0.1:7861\n",
      "\n",
      "To create a public link, set `share=True` in `launch()`.\n"
     ]
    },
    {
     "data": {
      "text/html": [
       "<div><iframe src=\"http://127.0.0.1:7861/\" width=\"100%\" height=\"500\" allow=\"autoplay; camera; microphone; clipboard-read; clipboard-write;\" frameborder=\"0\" allowfullscreen></iframe></div>"
      ],
      "text/plain": [
       "<IPython.core.display.HTML object>"
      ]
     },
     "metadata": {},
     "output_type": "display_data"
    },
    {
     "data": {
      "text/plain": []
     },
     "execution_count": 5,
     "metadata": {},
     "output_type": "execute_result"
    }
   ],
   "source": [
    "# Create Gradio UI\n",
    "with gr.Blocks() as interface:\n",
    "    user_input = gr.Textbox(label=\"User Input\")\n",
    "    response_output = gr.Textbox(label=\"Response\")\n",
    "    \n",
    "    # Define feedback buttons\n",
    "    thumbs_up = gr.Button(\"👍 Thumbs Up\")\n",
    "    thumbs_down = gr.Button(\"👎 Thumbs Down\")\n",
    "\n",
    "    def on_submit(user_input):\n",
    "        response = feedback_interface(user_input)\n",
    "        response_output.value = response\n",
    "\n",
    "    # Define actions for thumbs up and thumbs down feedback\n",
    "    thumbs_up.click(lambda: feedback_interface(user_input.value, \"Positive\"), inputs=[], outputs=response_output)\n",
    "    thumbs_down.click(lambda: feedback_interface(user_input.value, \"Negative\"), inputs=[], outputs=response_output)\n",
    "\n",
    "    # Display layout\n",
    "    gr.Row([user_input, response_output, thumbs_up, thumbs_down])\n",
    "\n",
    "interface.launch()"
   ]
  }
 ],
 "metadata": {
  "kernelspec": {
   "display_name": "base",
   "language": "python",
   "name": "python3"
  },
  "language_info": {
   "codemirror_mode": {
    "name": "ipython",
    "version": 3
   },
   "file_extension": ".py",
   "mimetype": "text/x-python",
   "name": "python",
   "nbconvert_exporter": "python",
   "pygments_lexer": "ipython3",
   "version": "3.11.7"
  }
 },
 "nbformat": 4,
 "nbformat_minor": 2
}
