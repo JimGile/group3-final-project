{
 "cells": [
  {
   "cell_type": "markdown",
   "metadata": {},
   "source": [
    "## https://huggingface.co/tasks/zero-shot-classification"
   ]
  },
  {
   "cell_type": "code",
   "execution_count": 7,
   "metadata": {},
   "outputs": [],
   "source": [
    "import pandas as pd"
   ]
  },
  {
   "cell_type": "code",
   "execution_count": 1,
   "metadata": {},
   "outputs": [
    {
     "name": "stdout",
     "output_type": "stream",
     "text": [
      "WARNING:tensorflow:From c:\\Users\\jim\\anaconda3\\Lib\\site-packages\\keras\\src\\losses.py:2976: The name tf.losses.sparse_softmax_cross_entropy is deprecated. Please use tf.compat.v1.losses.sparse_softmax_cross_entropy instead.\n",
      "\n"
     ]
    },
    {
     "data": {
      "application/vnd.jupyter.widget-view+json": {
       "model_id": "3d8682305b334e8daf11bfc03d8a0e97",
       "version_major": 2,
       "version_minor": 0
      },
      "text/plain": [
       "config.json:   0%|          | 0.00/1.15k [00:00<?, ?B/s]"
      ]
     },
     "metadata": {},
     "output_type": "display_data"
    },
    {
     "name": "stderr",
     "output_type": "stream",
     "text": [
      "c:\\Users\\jim\\anaconda3\\Lib\\site-packages\\huggingface_hub\\file_download.py:147: UserWarning: `huggingface_hub` cache-system uses symlinks by default to efficiently store duplicated files but your machine does not support them in C:\\Users\\jim\\.cache\\huggingface\\hub\\models--facebook--bart-large-mnli. Caching files will still work but in a degraded version that might require more space on your disk. This warning can be disabled by setting the `HF_HUB_DISABLE_SYMLINKS_WARNING` environment variable. For more details, see https://huggingface.co/docs/huggingface_hub/how-to-cache#limitations.\n",
      "To support symlinks on Windows, you either need to activate Developer Mode or to run Python as an administrator. In order to activate developer mode, see this article: https://docs.microsoft.com/en-us/windows/apps/get-started/enable-your-device-for-development\n",
      "  warnings.warn(message)\n"
     ]
    },
    {
     "data": {
      "application/vnd.jupyter.widget-view+json": {
       "model_id": "ed40add3afa7497c8706f838d50e881b",
       "version_major": 2,
       "version_minor": 0
      },
      "text/plain": [
       "model.safetensors:   0%|          | 0.00/1.63G [00:00<?, ?B/s]"
      ]
     },
     "metadata": {},
     "output_type": "display_data"
    },
    {
     "name": "stdout",
     "output_type": "stream",
     "text": [
      "WARNING:tensorflow:From c:\\Users\\jim\\anaconda3\\Lib\\site-packages\\keras\\src\\backend.py:873: The name tf.get_default_graph is deprecated. Please use tf.compat.v1.get_default_graph instead.\n",
      "\n"
     ]
    },
    {
     "name": "stderr",
     "output_type": "stream",
     "text": [
      "Some weights of the PyTorch model were not used when initializing the TF 2.0 model TFBartForSequenceClassification: ['model.decoder.version', 'model.encoder.version']\n",
      "- This IS expected if you are initializing TFBartForSequenceClassification from a PyTorch model trained on another task or with another architecture (e.g. initializing a TFBertForSequenceClassification model from a BertForPreTraining model).\n",
      "- This IS NOT expected if you are initializing TFBartForSequenceClassification from a PyTorch model that you expect to be exactly identical (e.g. initializing a TFBertForSequenceClassification model from a BertForSequenceClassification model).\n",
      "All the weights of TFBartForSequenceClassification were initialized from the PyTorch model.\n",
      "If your task is similar to the task the model of the checkpoint was trained on, you can already use TFBartForSequenceClassification for predictions without further training.\n"
     ]
    },
    {
     "data": {
      "application/vnd.jupyter.widget-view+json": {
       "model_id": "4e7dc61a53e7423784e1a0c5c505df57",
       "version_major": 2,
       "version_minor": 0
      },
      "text/plain": [
       "tokenizer_config.json:   0%|          | 0.00/26.0 [00:00<?, ?B/s]"
      ]
     },
     "metadata": {},
     "output_type": "display_data"
    },
    {
     "data": {
      "application/vnd.jupyter.widget-view+json": {
       "model_id": "2a0e52eb4f9a4b1fb2fb31e03c38d612",
       "version_major": 2,
       "version_minor": 0
      },
      "text/plain": [
       "vocab.json:   0%|          | 0.00/899k [00:00<?, ?B/s]"
      ]
     },
     "metadata": {},
     "output_type": "display_data"
    },
    {
     "data": {
      "application/vnd.jupyter.widget-view+json": {
       "model_id": "4ee100209bf54559af2abe7297d5ae1e",
       "version_major": 2,
       "version_minor": 0
      },
      "text/plain": [
       "merges.txt:   0%|          | 0.00/456k [00:00<?, ?B/s]"
      ]
     },
     "metadata": {},
     "output_type": "display_data"
    },
    {
     "data": {
      "application/vnd.jupyter.widget-view+json": {
       "model_id": "bd2e8a7d22244e77bdbfe3f1c7e291bc",
       "version_major": 2,
       "version_minor": 0
      },
      "text/plain": [
       "tokenizer.json:   0%|          | 0.00/1.36M [00:00<?, ?B/s]"
      ]
     },
     "metadata": {},
     "output_type": "display_data"
    },
    {
     "data": {
      "text/plain": [
       "{'sequence': 'I have a problem with my iphone that needs to be resolved asap!',\n",
       " 'labels': ['urgent', 'phone', 'computer', 'not urgent', 'tablet'],\n",
       " 'scores': [0.5227572321891785,\n",
       "  0.45814087986946106,\n",
       "  0.014264837838709354,\n",
       "  0.002684992738068104,\n",
       "  0.0021520580630749464]}"
      ]
     },
     "execution_count": 1,
     "metadata": {},
     "output_type": "execute_result"
    }
   ],
   "source": [
    "from transformers import pipeline\n",
    "\n",
    "pipe = pipeline(model=\"facebook/bart-large-mnli\")\n",
    "pipe(\"I have a problem with my iphone that needs to be resolved asap!\",\n",
    "    candidate_labels=[\"urgent\", \"not urgent\", \"phone\", \"tablet\", \"computer\"],\n",
    ")"
   ]
  },
  {
   "cell_type": "code",
   "execution_count": 44,
   "metadata": {},
   "outputs": [],
   "source": [
    "topic_dict = {\n",
    "    'homeless': 'Homeless',\n",
    "    'shelter': 'Homeless',\n",
    "    'encampment': 'Homeless',\n",
    "    'graffiti': 'Graffiti',\n",
    "    'paint': 'Graffiti',\n",
    "    'pothole': 'Pothole',\n",
    "    'holes': 'Pothole',\n",
    "    'animal': 'Animals',\n",
    "    'pest': 'Animals',\n",
    "    'weeds': 'Vegitation',\n",
    "    'trees': 'Vegitation',\n",
    "    'overgrown': 'Vegitation',\n",
    "    'neighborhood': 'Neighborhood',\n",
    "    'hoa': 'Neighborhood',\n",
    "    'rno': 'Neighborhood',\n",
    "    'sidewalk': 'Neighborhood',\n",
    "    'sidewalks': 'Neighborhood',\n",
    "    'fence': 'Neighborhood',\n",
    "    'fences': 'Neighborhood',\n",
    "    'snow': 'Snow Removal',\n",
    "    'ice': 'Snow Removal',\n",
    "    'plows': 'Snow Removal',\n",
    "    'vehicle': 'Vehicle',\n",
    "    'vehicles': 'Vehicle',\n",
    "    'car': 'Vehicle',\n",
    "    'cars': 'Vehicle',\n",
    "    'motorcycle': 'Vehicle',\n",
    "    'motorcycles': 'Vehicle',\n",
    "    'parking': 'Parking',\n",
    "    'police': 'Police',\n",
    "    'gang': 'Police',\n",
    "    'loud': 'Police',\n",
    "    'drugs': 'Police',\n",
    "    'crime': 'Police',\n",
    "    'firework': 'Fireworks',\n",
    "    'dumping': 'Dumping',\n",
    "    'trash': 'Trash',\n",
    "    'garbage': 'Trash',\n",
    "    'compost': 'Trash',\n",
    "    'recycling': 'Trash',\n",
    "    'rent': 'Housing',\n",
    "    'rental': 'Housing',\n",
    "    'rentals': 'Housing',\n",
    "    'apartment': 'Housing',\n",
    "    'apartments': 'Housing',\n",
    "    'policy': 'Policy',\n",
    "    'tax': 'Policy',\n",
    "    'taxes': 'Policy',\n",
    "    'mayor': 'Policy',\n",
    "    'council': 'Policy',\n",
    "    'councilwoman': 'Policy',\n",
    "    'councilman': 'Policy',\n",
    "    'environmental': 'Policy',\n",
    "    'environment': 'Policy',\n",
    "    'rezoning': 'Policy',\n",
    "    'rezone': 'Policy',\n",
    "    'government': 'Policy',\n",
    "    'racing': 'Racing',\n",
    "    'transit': 'Transit',\n",
    "    'traffic': 'Transit',\n",
    "    'pedestrian': 'Transit',\n",
    "    'intersection': 'Transit',\n",
    "    'bicycle': 'Transit',\n",
    "    'bike': 'Transit',\n",
    "    'speed': 'Transit',\n",
    "    'pavement': 'Transit',\n",
    "    'parks': 'Parks',\n",
    "    'park': 'Parks',\n",
    "    'playground': 'Parks',\n",
    "    'trails': 'Parks',\n",
    "    'pool': 'Parks',\n",
    "    'gym': 'Parks',\n",
    "    'medians': 'Parks',\n",
    "}\n",
    "\n"
   ]
  },
  {
   "cell_type": "code",
   "execution_count": 45,
   "metadata": {},
   "outputs": [
    {
     "data": {
      "text/plain": [
       "['Policy',\n",
       " 'Parks',\n",
       " 'Animals',\n",
       " 'Snow Removal',\n",
       " 'Vehicle',\n",
       " 'Police',\n",
       " 'Racing',\n",
       " 'Homeless',\n",
       " 'Transit',\n",
       " 'Parking',\n",
       " 'Fireworks',\n",
       " 'Neighborhood',\n",
       " 'Dumping',\n",
       " 'Trash',\n",
       " 'Graffiti',\n",
       " 'Vegitation',\n",
       " 'Pothole',\n",
       " 'Housing']"
      ]
     },
     "execution_count": 45,
     "metadata": {},
     "output_type": "execute_result"
    }
   ],
   "source": [
    "target_labels = list(set(topic_dict.values()))\n",
    "target_labels"
   ]
  },
  {
   "cell_type": "code",
   "execution_count": 8,
   "metadata": {},
   "outputs": [
    {
     "data": {
      "text/html": [
       "<div>\n",
       "<style scoped>\n",
       "    .dataframe tbody tr th:only-of-type {\n",
       "        vertical-align: middle;\n",
       "    }\n",
       "\n",
       "    .dataframe tbody tr th {\n",
       "        vertical-align: top;\n",
       "    }\n",
       "\n",
       "    .dataframe thead th {\n",
       "        text-align: right;\n",
       "    }\n",
       "</style>\n",
       "<table border=\"1\" class=\"dataframe\">\n",
       "  <thead>\n",
       "    <tr style=\"text-align: right;\">\n",
       "      <th></th>\n",
       "      <th>name</th>\n",
       "      <th>affected_address</th>\n",
       "      <th>email_address</th>\n",
       "      <th>case_number</th>\n",
       "      <th>date</th>\n",
       "      <th>constituent_email_1</th>\n",
       "      <th>d4_response_1</th>\n",
       "      <th>d4_staff_member</th>\n",
       "      <th>constituent_email_2</th>\n",
       "      <th>d4_response_2</th>\n",
       "      <th>topics</th>\n",
       "    </tr>\n",
       "  </thead>\n",
       "  <tbody>\n",
       "    <tr>\n",
       "      <th>0</th>\n",
       "      <td>Ron</td>\n",
       "      <td>6864 East Bucknell Place</td>\n",
       "      <td>ron@email.com</td>\n",
       "      <td>0</td>\n",
       "      <td>2024-08-05</td>\n",
       "      <td>The lack of police presence and code enforceme...</td>\n",
       "      <td>Good morning Ron, \\n\\nThank you for reaching o...</td>\n",
       "      <td>Staff1</td>\n",
       "      <td>NaN</td>\n",
       "      <td>NaN</td>\n",
       "      <td>Police,Policy</td>\n",
       "    </tr>\n",
       "    <tr>\n",
       "      <th>1</th>\n",
       "      <td>Renee</td>\n",
       "      <td>Dahlia &amp; High Line intersection</td>\n",
       "      <td>renee@email.com</td>\n",
       "      <td>0</td>\n",
       "      <td>2024-08-19</td>\n",
       "      <td>I would like to know if there is a possible to...</td>\n",
       "      <td>Thank you for reaching out to our office.  The...</td>\n",
       "      <td>Staff2</td>\n",
       "      <td>NaN</td>\n",
       "      <td>NaN</td>\n",
       "      <td>Transit</td>\n",
       "    </tr>\n",
       "    <tr>\n",
       "      <th>2</th>\n",
       "      <td>JW</td>\n",
       "      <td>Happy Canyon &amp; Jasmine St</td>\n",
       "      <td>jw@email.com</td>\n",
       "      <td>0</td>\n",
       "      <td>2024-08-19</td>\n",
       "      <td>Accident took place at Happy Canyon &amp; Jasmine....</td>\n",
       "      <td>Good morning TJ,\\n\\nThank you for reaching out...</td>\n",
       "      <td>Staff1</td>\n",
       "      <td>NaN</td>\n",
       "      <td>NaN</td>\n",
       "      <td>Pothole,Transit</td>\n",
       "    </tr>\n",
       "    <tr>\n",
       "      <th>3</th>\n",
       "      <td>Clara</td>\n",
       "      <td>Hutchinson Hills</td>\n",
       "      <td>clara@email.com</td>\n",
       "      <td>9578014</td>\n",
       "      <td>2024-08-20</td>\n",
       "      <td>Has many concerns about getting a compost cart...</td>\n",
       "      <td>Thank you for reaching out to our office and f...</td>\n",
       "      <td>Staff2</td>\n",
       "      <td>Clara sent another email back with more questi...</td>\n",
       "      <td>Did not respond as they were the same question...</td>\n",
       "      <td>Trash</td>\n",
       "    </tr>\n",
       "    <tr>\n",
       "      <th>4</th>\n",
       "      <td>Pauline</td>\n",
       "      <td>NaN</td>\n",
       "      <td>pauline@email.com</td>\n",
       "      <td>0</td>\n",
       "      <td>2024-08-21</td>\n",
       "      <td>At any rate my concern is how will HOA condo u...</td>\n",
       "      <td>Good afternoon Pauline, \\n\\nThank you for reac...</td>\n",
       "      <td>Staff1</td>\n",
       "      <td>NaN</td>\n",
       "      <td>NaN</td>\n",
       "      <td>Neighborhood,Policy</td>\n",
       "    </tr>\n",
       "  </tbody>\n",
       "</table>\n",
       "</div>"
      ],
      "text/plain": [
       "      name                  affected_address      email_address  case_number  \\\n",
       "0      Ron          6864 East Bucknell Place      ron@email.com            0   \n",
       "1    Renee  Dahlia & High Line intersection     renee@email.com            0   \n",
       "2       JW         Happy Canyon & Jasmine St       jw@email.com            0   \n",
       "3    Clara                 Hutchinson Hills     clara@email.com      9578014   \n",
       "4  Pauline                               NaN  pauline@email.com            0   \n",
       "\n",
       "         date                                constituent_email_1  \\\n",
       "0  2024-08-05  The lack of police presence and code enforceme...   \n",
       "1  2024-08-19  I would like to know if there is a possible to...   \n",
       "2  2024-08-19  Accident took place at Happy Canyon & Jasmine....   \n",
       "3  2024-08-20  Has many concerns about getting a compost cart...   \n",
       "4  2024-08-21  At any rate my concern is how will HOA condo u...   \n",
       "\n",
       "                                       d4_response_1 d4_staff_member  \\\n",
       "0  Good morning Ron, \\n\\nThank you for reaching o...          Staff1   \n",
       "1  Thank you for reaching out to our office.  The...          Staff2   \n",
       "2  Good morning TJ,\\n\\nThank you for reaching out...          Staff1   \n",
       "3  Thank you for reaching out to our office and f...          Staff2   \n",
       "4  Good afternoon Pauline, \\n\\nThank you for reac...          Staff1   \n",
       "\n",
       "                                 constituent_email_2  \\\n",
       "0                                                NaN   \n",
       "1                                                NaN   \n",
       "2                                                NaN   \n",
       "3  Clara sent another email back with more questi...   \n",
       "4                                                NaN   \n",
       "\n",
       "                                       d4_response_2               topics  \n",
       "0                                                NaN        Police,Policy  \n",
       "1                                                NaN              Transit  \n",
       "2                                                NaN      Pothole,Transit  \n",
       "3  Did not respond as they were the same question...                Trash  \n",
       "4                                                NaN  Neighborhood,Policy  "
      ]
     },
     "execution_count": 8,
     "metadata": {},
     "output_type": "execute_result"
    }
   ],
   "source": [
    "d4_emails_df = pd.read_csv('../resources/d4_emails_topics.csv')\n",
    "d4_emails_df.head()"
   ]
  },
  {
   "cell_type": "code",
   "execution_count": 41,
   "metadata": {},
   "outputs": [
    {
     "data": {
      "text/plain": [
       "{'sequence': 'I would like to know if there is a possible to put a yellow flashing pedestrian light on Dahlia and the intersection of the Highline Canal.. Also is there aywya that a turn signal could be implemented at Hampden and Dahlia? ',\n",
       " 'labels': ['Parks',\n",
       "  'Vegitation',\n",
       "  'Neighborhood',\n",
       "  'Policy',\n",
       "  'Pothole',\n",
       "  'Transit',\n",
       "  'Housing',\n",
       "  'Dumping',\n",
       "  'Fireworks',\n",
       "  'Vehicle',\n",
       "  'Animal',\n",
       "  'Graffiti',\n",
       "  'Homeless',\n",
       "  'Police',\n",
       "  'Snow Removal',\n",
       "  'Parking',\n",
       "  'Trash',\n",
       "  'Street Racing'],\n",
       " 'scores': [0.09901855885982513,\n",
       "  0.09825672209262848,\n",
       "  0.08531495928764343,\n",
       "  0.08322964608669281,\n",
       "  0.07963913679122925,\n",
       "  0.07872531563043594,\n",
       "  0.07293282449245453,\n",
       "  0.06151485815644264,\n",
       "  0.046975042670965195,\n",
       "  0.04209936037659645,\n",
       "  0.04208453744649887,\n",
       "  0.04097536951303482,\n",
       "  0.03574579209089279,\n",
       "  0.03193404898047447,\n",
       "  0.026251744478940964,\n",
       "  0.025525745004415512,\n",
       "  0.025291139259934425,\n",
       "  0.024485284462571144]}"
      ]
     },
     "execution_count": 41,
     "metadata": {},
     "output_type": "execute_result"
    }
   ],
   "source": [
    "# Check the results - labels should be in order\n",
    "result = pipe(d4_emails_df['constituent_email_1'][1],\n",
    "    candidate_labels=target_labels,\n",
    ")\n",
    "result"
   ]
  },
  {
   "cell_type": "code",
   "execution_count": 37,
   "metadata": {},
   "outputs": [],
   "source": [
    "# Define a function to get the maximum index for a given score threshold\n",
    "def get_max_index(sorted_list: list, threshold: float):\n",
    "    # Iterate over the list and find the maximum index\n",
    "    max_index = -1\n",
    "    for i, value in enumerate(sorted_list):\n",
    "        if value >= threshold:\n",
    "            max_index = i\n",
    "    return max_index + 1"
   ]
  },
  {
   "cell_type": "code",
   "execution_count": 46,
   "metadata": {},
   "outputs": [],
   "source": [
    "# Define a function perform zero shot classification\n",
    "def zero_shot_classification(text: str, candidate_labels: list, max_num_labels: int = 4, threshold: float = 0.09 ):\n",
    "    result = pipe(text, candidate_labels=candidate_labels)\n",
    "    max_idx = min(get_max_index(result['scores'], threshold), max_num_labels)\n",
    "    if max_idx == 0:\n",
    "        return 'Other'\n",
    "    return ','.join(result['labels'][0:max_idx])"
   ]
  },
  {
   "cell_type": "code",
   "execution_count": 48,
   "metadata": {},
   "outputs": [
    {
     "data": {
      "text/plain": [
       "'Housing,Vehicle,Neighborhood'"
      ]
     },
     "execution_count": 48,
     "metadata": {},
     "output_type": "execute_result"
    }
   ],
   "source": [
    "# Test the zero_shot_classification function\n",
    "result = zero_shot_classification(d4_emails_df['constituent_email_1'][3], target_labels, 4, 0.09)\n",
    "result"
   ]
  },
  {
   "cell_type": "code",
   "execution_count": 49,
   "metadata": {},
   "outputs": [
    {
     "data": {
      "text/html": [
       "<div>\n",
       "<style scoped>\n",
       "    .dataframe tbody tr th:only-of-type {\n",
       "        vertical-align: middle;\n",
       "    }\n",
       "\n",
       "    .dataframe tbody tr th {\n",
       "        vertical-align: top;\n",
       "    }\n",
       "\n",
       "    .dataframe thead th {\n",
       "        text-align: right;\n",
       "    }\n",
       "</style>\n",
       "<table border=\"1\" class=\"dataframe\">\n",
       "  <thead>\n",
       "    <tr style=\"text-align: right;\">\n",
       "      <th></th>\n",
       "      <th>name</th>\n",
       "      <th>affected_address</th>\n",
       "      <th>email_address</th>\n",
       "      <th>case_number</th>\n",
       "      <th>date</th>\n",
       "      <th>constituent_email_1</th>\n",
       "      <th>d4_response_1</th>\n",
       "      <th>d4_staff_member</th>\n",
       "      <th>constituent_email_2</th>\n",
       "      <th>d4_response_2</th>\n",
       "      <th>topics</th>\n",
       "      <th>zero_shot_topics</th>\n",
       "    </tr>\n",
       "  </thead>\n",
       "  <tbody>\n",
       "    <tr>\n",
       "      <th>0</th>\n",
       "      <td>Ron</td>\n",
       "      <td>6864 East Bucknell Place</td>\n",
       "      <td>ron@email.com</td>\n",
       "      <td>0</td>\n",
       "      <td>2024-08-05</td>\n",
       "      <td>The lack of police presence and code enforceme...</td>\n",
       "      <td>Good morning Ron, \\n\\nThank you for reaching o...</td>\n",
       "      <td>Staff1</td>\n",
       "      <td>NaN</td>\n",
       "      <td>NaN</td>\n",
       "      <td>Police,Policy</td>\n",
       "      <td>Police,Housing,Neighborhood</td>\n",
       "    </tr>\n",
       "    <tr>\n",
       "      <th>1</th>\n",
       "      <td>Renee</td>\n",
       "      <td>Dahlia &amp; High Line intersection</td>\n",
       "      <td>renee@email.com</td>\n",
       "      <td>0</td>\n",
       "      <td>2024-08-19</td>\n",
       "      <td>I would like to know if there is a possible to...</td>\n",
       "      <td>Thank you for reaching out to our office.  The...</td>\n",
       "      <td>Staff2</td>\n",
       "      <td>NaN</td>\n",
       "      <td>NaN</td>\n",
       "      <td>Transit</td>\n",
       "      <td>Parks,Vegitation</td>\n",
       "    </tr>\n",
       "    <tr>\n",
       "      <th>2</th>\n",
       "      <td>JW</td>\n",
       "      <td>Happy Canyon &amp; Jasmine St</td>\n",
       "      <td>jw@email.com</td>\n",
       "      <td>0</td>\n",
       "      <td>2024-08-19</td>\n",
       "      <td>Accident took place at Happy Canyon &amp; Jasmine....</td>\n",
       "      <td>Good morning TJ,\\n\\nThank you for reaching out...</td>\n",
       "      <td>Staff1</td>\n",
       "      <td>NaN</td>\n",
       "      <td>NaN</td>\n",
       "      <td>Pothole,Transit</td>\n",
       "      <td>Vehicle,Police</td>\n",
       "    </tr>\n",
       "    <tr>\n",
       "      <th>3</th>\n",
       "      <td>Clara</td>\n",
       "      <td>Hutchinson Hills</td>\n",
       "      <td>clara@email.com</td>\n",
       "      <td>9578014</td>\n",
       "      <td>2024-08-20</td>\n",
       "      <td>Has many concerns about getting a compost cart...</td>\n",
       "      <td>Thank you for reaching out to our office and f...</td>\n",
       "      <td>Staff2</td>\n",
       "      <td>Clara sent another email back with more questi...</td>\n",
       "      <td>Did not respond as they were the same question...</td>\n",
       "      <td>Trash</td>\n",
       "      <td>Housing,Vehicle,Neighborhood</td>\n",
       "    </tr>\n",
       "    <tr>\n",
       "      <th>4</th>\n",
       "      <td>Pauline</td>\n",
       "      <td>NaN</td>\n",
       "      <td>pauline@email.com</td>\n",
       "      <td>0</td>\n",
       "      <td>2024-08-21</td>\n",
       "      <td>At any rate my concern is how will HOA condo u...</td>\n",
       "      <td>Good afternoon Pauline, \\n\\nThank you for reac...</td>\n",
       "      <td>Staff1</td>\n",
       "      <td>NaN</td>\n",
       "      <td>NaN</td>\n",
       "      <td>Neighborhood,Policy</td>\n",
       "      <td>Housing</td>\n",
       "    </tr>\n",
       "  </tbody>\n",
       "</table>\n",
       "</div>"
      ],
      "text/plain": [
       "      name                  affected_address      email_address  case_number  \\\n",
       "0      Ron          6864 East Bucknell Place      ron@email.com            0   \n",
       "1    Renee  Dahlia & High Line intersection     renee@email.com            0   \n",
       "2       JW         Happy Canyon & Jasmine St       jw@email.com            0   \n",
       "3    Clara                 Hutchinson Hills     clara@email.com      9578014   \n",
       "4  Pauline                               NaN  pauline@email.com            0   \n",
       "\n",
       "         date                                constituent_email_1  \\\n",
       "0  2024-08-05  The lack of police presence and code enforceme...   \n",
       "1  2024-08-19  I would like to know if there is a possible to...   \n",
       "2  2024-08-19  Accident took place at Happy Canyon & Jasmine....   \n",
       "3  2024-08-20  Has many concerns about getting a compost cart...   \n",
       "4  2024-08-21  At any rate my concern is how will HOA condo u...   \n",
       "\n",
       "                                       d4_response_1 d4_staff_member  \\\n",
       "0  Good morning Ron, \\n\\nThank you for reaching o...          Staff1   \n",
       "1  Thank you for reaching out to our office.  The...          Staff2   \n",
       "2  Good morning TJ,\\n\\nThank you for reaching out...          Staff1   \n",
       "3  Thank you for reaching out to our office and f...          Staff2   \n",
       "4  Good afternoon Pauline, \\n\\nThank you for reac...          Staff1   \n",
       "\n",
       "                                 constituent_email_2  \\\n",
       "0                                                NaN   \n",
       "1                                                NaN   \n",
       "2                                                NaN   \n",
       "3  Clara sent another email back with more questi...   \n",
       "4                                                NaN   \n",
       "\n",
       "                                       d4_response_2               topics  \\\n",
       "0                                                NaN        Police,Policy   \n",
       "1                                                NaN              Transit   \n",
       "2                                                NaN      Pothole,Transit   \n",
       "3  Did not respond as they were the same question...                Trash   \n",
       "4                                                NaN  Neighborhood,Policy   \n",
       "\n",
       "               zero_shot_topics  \n",
       "0   Police,Housing,Neighborhood  \n",
       "1              Parks,Vegitation  \n",
       "2                Vehicle,Police  \n",
       "3  Housing,Vehicle,Neighborhood  \n",
       "4                       Housing  "
      ]
     },
     "execution_count": 49,
     "metadata": {},
     "output_type": "execute_result"
    }
   ],
   "source": [
    "# Apply the function and create a new column\n",
    "d4_emails_df['zero_shot_topics'] = d4_emails_df['constituent_email_1'].apply(lambda x: zero_shot_classification(x, target_labels, 4, 0.09))\n",
    "d4_emails_df.head()"
   ]
  },
  {
   "cell_type": "code",
   "execution_count": 50,
   "metadata": {},
   "outputs": [],
   "source": [
    "# Save the dataframe to a csv file\n",
    "d4_emails_df.to_csv('../resources/d4_emails_zero_shot_topics.csv', index=False)"
   ]
  }
 ],
 "metadata": {
  "kernelspec": {
   "display_name": "base",
   "language": "python",
   "name": "python3"
  },
  "language_info": {
   "codemirror_mode": {
    "name": "ipython",
    "version": 3
   },
   "file_extension": ".py",
   "mimetype": "text/x-python",
   "name": "python",
   "nbconvert_exporter": "python",
   "pygments_lexer": "ipython3",
   "version": "3.11.10"
  }
 },
 "nbformat": 4,
 "nbformat_minor": 2
}
