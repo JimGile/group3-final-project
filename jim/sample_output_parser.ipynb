{
 "cells": [
  {
   "cell_type": "code",
   "execution_count": 34,
   "metadata": {},
   "outputs": [],
   "source": [
    "from langchain_google_genai import ChatGoogleGenerativeAI\n",
    "from langchain.output_parsers import CommaSeparatedListOutputParser\n",
    "from langchain.output_parsers import StructuredOutputParser, ResponseSchema\n",
    "from langchain.output_parsers import PydanticOutputParser\n",
    "from pydantic import BaseModel, Field, TypeAdapter\n",
    "import json\n",
    "import os"
   ]
  },
  {
   "cell_type": "code",
   "execution_count": 2,
   "metadata": {},
   "outputs": [],
   "source": [
    "# Set the model name for our LLMs.\n",
    "GEMINI_MODEL = \"gemini-1.5-flash\"\n",
    "# Store the API key in a variable.\n",
    "GEMINI_API_KEY = os.getenv(\"GEMINI_API_KEY\")\n",
    "# Initialize the model.\n",
    "llm = ChatGoogleGenerativeAI(google_api_key=GEMINI_API_KEY, model=GEMINI_MODEL, temperature=0.9)\n"
   ]
  },
  {
   "cell_type": "markdown",
   "metadata": {},
   "source": [
    "# List Parser"
   ]
  },
  {
   "cell_type": "code",
   "execution_count": 3,
   "metadata": {},
   "outputs": [
    {
     "name": "stdout",
     "output_type": "stream",
     "text": [
      "instructions: Your response should be a list of comma separated values, eg: `foo, bar, baz` or `foo,bar,baz`\n",
      "\n",
      "Maine Coon, Siamese, Persian \n",
      "\n",
      "\n",
      "['Maine Coon', 'Siamese', 'Persian']\n"
     ]
    }
   ],
   "source": [
    "# Initialize the output parser.\n",
    "parser = CommaSeparatedListOutputParser()\n",
    "\n",
    "# Get the output format instructions.\n",
    "instructions = parser.get_format_instructions()\n",
    "print(f\"instructions: {instructions}\")\n",
    "\n",
    "print()\n",
    "\n",
    "# Define a query as a string, combining with the instructions.\n",
    "query = \"List 3 cat breeds.\" + \"\\n\\n\" + instructions\n",
    "\n",
    "# Pass the query to the invoke method, and print the result.\n",
    "result = llm.invoke(query)\n",
    "print(result.content)\n",
    "\n",
    "print()\n",
    "\n",
    "# Parse the result, store it, and print it.\n",
    "data = parser.parse(result.content)\n",
    "print(data)"
   ]
  },
  {
   "cell_type": "markdown",
   "metadata": {},
   "source": [
    "# Structured Parser"
   ]
  },
  {
   "cell_type": "code",
   "execution_count": 9,
   "metadata": {},
   "outputs": [
    {
     "name": "stdout",
     "output_type": "stream",
     "text": [
      "Instructions: \n",
      "```json\n",
      "{\n",
      "\t\"country\": string  // the country\n",
      "\t\"capital\": string  // the capital\n",
      "}\n",
      "```\n",
      "\n",
      "Iniitial result: ```json\n",
      "{\n",
      "\t\"country\": \"France\",\n",
      "\t\"capital\": \"Paris\"\n",
      "}\n",
      "```\n",
      "\n",
      "{'country': 'France', 'capital': 'Paris'}\n",
      "France\n",
      "Paris\n",
      "\n",
      "Here are three popular tourist attractions in Paris:\n",
      "\n",
      "1. **The Eiffel Tower:** This iconic wrought-iron lattice tower is a must-see for any visitor to Paris. You can ascend to the top for panoramic views of the city, or simply admire it from afar. \n",
      "2. **The Louvre Museum:** Home to some of the world's most famous artworks, including the Mona Lisa, the Louvre is a treasure trove of art and history. \n",
      "3. **The Palace of Versailles:** A short train ride from Paris, this opulent palace was once the home of French royalty. Visitors can explore the lavish interiors, stroll through the formal gardens, and learn about the history of the French monarchy. \n",
      "\n"
     ]
    }
   ],
   "source": [
    "# Initialize the model.\n",
    "llm = ChatGoogleGenerativeAI(google_api_key=GEMINI_API_KEY, model=GEMINI_MODEL, temperature=0.9)\n",
    "\n",
    "# Define the schemas for our parser.\n",
    "schemas = [\n",
    "    ResponseSchema(name=\"country\", description=\"the country\"),\n",
    "    ResponseSchema(name=\"capital\", description=\"the capital\")\n",
    "]\n",
    "\n",
    "# Initialize the output parser using the schema.\n",
    "parser = StructuredOutputParser.from_response_schemas(schemas)\n",
    "\n",
    "# Get the output format instructions and print them.\n",
    "instructions = parser.get_format_instructions(only_json=True)\n",
    "print(f\"Instructions: {instructions}\")\n",
    "\n",
    "print()\n",
    "\n",
    "# Define a query as a string, combining with the instructions.\n",
    "query = \"Name a country and its capital.\" + \"\\n\\n\" + instructions\n",
    "\n",
    "# Pass the query to the invoke method, and print the result.\n",
    "result = llm.invoke(query)\n",
    "print(f\"Iniitial result: {result.content}\")\n",
    "\n",
    "print()\n",
    "\n",
    "# Parse the result, store it, and print it.\n",
    "data = parser.parse(result.content)\n",
    "print(data)\n",
    "print(data[\"country\"])\n",
    "print(data[\"capital\"])\n",
    "\n",
    "print()\n",
    "\n",
    "# Define a new query using the parsed output.\n",
    "query = f\"What are three tourist attractions in {data['capital']}?\"\n",
    "\n",
    "# Pass the query to the invoke method, and print the result.\n",
    "result = llm.invoke(query)\n",
    "print(result.content)"
   ]
  },
  {
   "cell_type": "markdown",
   "metadata": {},
   "source": [
    "# Class-based Parser"
   ]
  },
  {
   "cell_type": "code",
   "execution_count": 32,
   "metadata": {},
   "outputs": [
    {
     "name": "stdout",
     "output_type": "stream",
     "text": [
      "{'properties': {'name': {'description': 'the country name', 'title': 'Name', 'type': 'string'}, 'capital': {'description': 'the capital', 'title': 'Capital', 'type': 'string'}, 'population': {'description': \"the country's population\", 'title': 'Population', 'type': 'integer'}}, 'required': ['name', 'capital', 'population'], 'title': 'Country', 'type': 'object'}\n"
     ]
    }
   ],
   "source": [
    "# Define the class for parsed responses\n",
    "class Country(BaseModel):\n",
    "    name: str = Field(description=\"the country name\")\n",
    "    capital: str = Field(description=\"the capital\")\n",
    "    population: int = Field(description=\"the country's population\")\n",
    "\n",
    "# Initialize the output parser using the Counrty class.\n",
    "parser = PydanticOutputParser(pydantic_object=Country)"
   ]
  },
  {
   "cell_type": "code",
   "execution_count": 35,
   "metadata": {},
   "outputs": [
    {
     "name": "stdout",
     "output_type": "stream",
     "text": [
      "\n",
      "Please return a JSON object in the following format:\n",
      "{\n",
      "    \"name\": \"string\",       // the country name\n",
      "    \"capital\": \"string\",    // the capital\n",
      "    \"population\": integer   // the country's population\n",
      "}\n",
      "\n",
      "\n",
      "content='```json\\n{\\n    \"name\": \"Brazil\",\\n    \"capital\": \"Brasília\",\\n    \"population\": 214766314\\n}\\n```' additional_kwargs={} response_metadata={'prompt_feedback': {'block_reason': 0, 'safety_ratings': []}, 'finish_reason': 'STOP', 'safety_ratings': [{'category': 'HARM_CATEGORY_SEXUALLY_EXPLICIT', 'probability': 'NEGLIGIBLE', 'blocked': False}, {'category': 'HARM_CATEGORY_HATE_SPEECH', 'probability': 'NEGLIGIBLE', 'blocked': False}, {'category': 'HARM_CATEGORY_HARASSMENT', 'probability': 'NEGLIGIBLE', 'blocked': False}, {'category': 'HARM_CATEGORY_DANGEROUS_CONTENT', 'probability': 'NEGLIGIBLE', 'blocked': False}]} id='run-03f5e589-ba93-409e-8539-3b18a3ad1c76-0' usage_metadata={'input_tokens': 69, 'output_tokens': 40, 'total_tokens': 109}\n",
      "name='Brazil' capital='Brasília' population=214766314\n",
      "Country Name: Brazil\n",
      "Capital: Brasília\n",
      "Population: 214766314\n",
      "\n",
      "What are three tourist attractions in Brasília?\n",
      "Here are three popular tourist attractions in Brasília:\n",
      "\n",
      "1. **The Three Powers Square (Praça dos Três Poderes):** This iconic square houses the Supreme Court, the National Congress, and the Presidential Palace. It's a must-see for anyone visiting Brasília, showcasing the city's modernist architecture and political significance.\n",
      "\n",
      "2. **Cathedral of Brasília (Catedral Metropolitana de Brasília):** This striking cathedral, shaped like a crown of thorns, is a marvel of modern architecture and a popular destination for its unique design and religious significance.\n",
      "\n",
      "3. **National Museum of Brasília (Museu Nacional de Brasília):** This museum showcases the history and culture of Brasília, featuring exhibits on the city's planning, construction, and social development. It provides a great insight into the city's unique story. \n",
      "\n"
     ]
    }
   ],
   "source": [
    "# Manually create format instructions based on the schema\n",
    "instructions = \"\"\"\n",
    "Please return a JSON object in the following format:\n",
    "{\n",
    "    \"name\": \"string\",       // the country name\n",
    "    \"capital\": \"string\",    // the capital\n",
    "    \"population\": integer   // the country's population\n",
    "}\n",
    "\"\"\"\n",
    "\n",
    "print(instructions)\n",
    "print()\n",
    "\n",
    "# Define a query as a string, combining with the instructions.\n",
    "query = \"Name any country, its capital, and the country's population.\" + \"\\n\\n\" + instructions\n",
    "\n",
    "# Invoke the LLM and get the custom response\n",
    "llm_result = llm.invoke(query)\n",
    "print(llm_result)\n",
    "\n",
    "# Parse the result (mocked here) content into a dictionary\n",
    "try:\n",
    "    # Parse the LLM response into our Country class\n",
    "    data = parser.parse(llm_result.content)\n",
    "    \n",
    "    # Print the parsed data using Pydantic's model attributes\n",
    "    print(data)\n",
    "    print(f\"Country Name: {data.name}\")\n",
    "    print(f\"Capital: {data.capital}\")\n",
    "    print(f\"Population: {data.population}\")\n",
    "    \n",
    "except Exception as e:\n",
    "    print(f\"Error parsing LLM response: {e}\")\n",
    "\n",
    "print()\n",
    "\n",
    "# Define a new query using the parsed output.\n",
    "query = f\"What are three tourist attractions in {data.capital}?\"\n",
    "\n",
    "# Normally you would call the LLM again\n",
    "# result = llm.invoke(query)\n",
    "# For now, we'll print the query as an example:\n",
    "print(query)\n",
    "\n",
    "# Pass the query to the invoke method, and print the result.\n",
    "result = llm.invoke(query)\n",
    "print(result.content)"
   ]
  },
  {
   "cell_type": "code",
   "execution_count": 14,
   "metadata": {},
   "outputs": [
    {
     "data": {
      "text/plain": [
       "'```json\\n{\\n    \"name\": \"France\",\\n    \"capital\": \"Paris\",\\n    \"population\": 67000000\\n}\\n``` \\n'"
      ]
     },
     "execution_count": 14,
     "metadata": {},
     "output_type": "execute_result"
    }
   ],
   "source": [
    "llm_result.content"
   ]
  },
  {
   "cell_type": "code",
   "execution_count": 31,
   "metadata": {},
   "outputs": [
    {
     "data": {
      "text/plain": [
       "Country(name='France', capital='Paris', population=67064000)"
      ]
     },
     "execution_count": 31,
     "metadata": {},
     "output_type": "execute_result"
    }
   ],
   "source": [
    "data = parser.parse(llm_result.content)\n",
    "data"
   ]
  }
 ],
 "metadata": {
  "kernelspec": {
   "display_name": ".venv",
   "language": "python",
   "name": "python3"
  },
  "language_info": {
   "codemirror_mode": {
    "name": "ipython",
    "version": 3
   },
   "file_extension": ".py",
   "mimetype": "text/x-python",
   "name": "python",
   "nbconvert_exporter": "python",
   "pygments_lexer": "ipython3",
   "version": "3.11.10"
  }
 },
 "nbformat": 4,
 "nbformat_minor": 2
}
