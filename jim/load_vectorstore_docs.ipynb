{
 "cells": [
  {
   "cell_type": "code",
   "execution_count": 1,
   "metadata": {},
   "outputs": [],
   "source": [
    "from langchain_community.document_loaders.csv_loader import CSVLoader\n",
    "from langchain_core.output_parsers import StrOutputParser\n",
    "from langchain_core.documents.base import Document\n",
    "from langchain.text_splitter import RecursiveCharacterTextSplitter\n",
    "from langchain.embeddings.openai import OpenAIEmbeddings\n",
    "from langchain.vectorstores import Chroma\n",
    "from typing import List\n",
    "from uuid import uuid4\n",
    "import pandas as pd\n",
    "import os\n"
   ]
  },
  {
   "cell_type": "code",
   "execution_count": 2,
   "metadata": {},
   "outputs": [],
   "source": [
    "# Remove unwanted columns before loading into vectorstore\n",
    "def preprocess_d4_emails(file_in: str, file_out: str):\n",
    "    columns_to_drop = ['name', 'email_address', 'd4_staff_member', 'constituent_email_2', 'd4_response_2']\n",
    "    d4_emails_df = pd.read_csv(file_in)\n",
    "    d4_emails_df = d4_emails_df.drop(columns=columns_to_drop)\n",
    "    d4_emails_df.to_csv(file_out, index=False)\n",
    "    return d4_emails_df"
   ]
  },
  {
   "cell_type": "markdown",
   "metadata": {},
   "source": [
    "# Split the D4 Emails into document chunks"
   ]
  },
  {
   "cell_type": "code",
   "execution_count": 3,
   "metadata": {},
   "outputs": [],
   "source": [
    "# Split the emails into document chunks\n",
    "def split_docs(csv_file_path, chunk_size=5000, chunk_overlap=100) -> tuple[List[Document], list[str]]:\n",
    "    # Create a document loader for D4 Emails\n",
    "    loader = CSVLoader(csv_file_path, encoding='utf-8')\n",
    "\n",
    "    # Load the document\n",
    "    data = loader.load()\n",
    "    \n",
    "    # Create an instance of the splitter class with the given chunk size and overlap\n",
    "    splitter = RecursiveCharacterTextSplitter(\n",
    "        separators=[\"\\n\", \" \", \"\"],\n",
    "        chunk_size=chunk_size,\n",
    "        chunk_overlap=chunk_overlap,\n",
    "    )\n",
    "\n",
    "    # Split the emails into document chunks and create uuids\n",
    "    docs = splitter.split_documents(data)\n",
    "    uuids = [\n",
    "        f\"{str(docs[i].metadata['source']).split('/')[-1].replace('.csv', '')}_{docs[i].metadata['row']}\" for i in range(len(docs))\n",
    "    ]\n",
    "    \n",
    "    return docs, uuids"
   ]
  },
  {
   "cell_type": "markdown",
   "metadata": {},
   "source": [
    "# Load the vector store with the data from the preprocessed csv file"
   ]
  },
  {
   "cell_type": "code",
   "execution_count": 4,
   "metadata": {},
   "outputs": [],
   "source": [
    "def get_vector_store(embeddings, persist_directory='../chroma_db'):\n",
    "    return Chroma(embedding_function=embeddings, persist_directory=persist_directory)"
   ]
  },
  {
   "cell_type": "code",
   "execution_count": 5,
   "metadata": {},
   "outputs": [],
   "source": [
    "def load_vectorstore_docs(docs: List[Document], uuids: list[str], embeddings, persist_directory='../chroma_db'):\n",
    "\n",
    "    # Create the vector_store with the documents and save it to disk\n",
    "    try:\n",
    "        if os.path.exists(persist_directory) and os.listdir(persist_directory):\n",
    "            print(f\"Updating vector store at {persist_directory}\", flush=True)\n",
    "            # vector_store = get_vector_store(embeddings=embeddings, persist_directory=persist_directory)\n",
    "            # for i in range(len(uuids)):\n",
    "            #     if vector_store.get([uuids[i]]) is not None:\n",
    "            #         print(f\"deleting uuid: {uuids[i]}\", flush=True)\n",
    "            #         vector_store.delete(ids=[uuids[i]])\n",
    "                # print(f\"adding uuid: {uuids[i]}\", flush=True)\n",
    "                # vector_store.add_documents([docs[i]], ids=[uuids[i]])\n",
    "        else:\n",
    "            print(f\"Creating vector store at {persist_directory}\", flush=True)\n",
    "            \n",
    "        vector_store = Chroma.from_documents(\n",
    "            docs,\n",
    "            embeddings,\n",
    "            persist_directory=persist_directory,\n",
    "            ids=uuids\n",
    "        )\n",
    "    except Exception as e:\n",
    "        print(f\"Error creating/updating vector store: {str(e)}\", flush=True)\n",
    "        \n",
    "    "
   ]
  },
  {
   "cell_type": "markdown",
   "metadata": {},
   "source": [
    "## Define variables for the functions"
   ]
  },
  {
   "cell_type": "code",
   "execution_count": null,
   "metadata": {},
   "outputs": [],
   "source": [
    "# Define the path to the input and output csv files\n",
    "d4_emails_file = '../resources/d4_emails_topics.csv'\n",
    "d4_emails_responses_file = '../resources/d4_emails_responses.csv'\n",
    "\n",
    "# Create an instance of the embedding class\n",
    "embeddings = OpenAIEmbeddings(model=\"text-embedding-3-large\")\n"
   ]
  },
  {
   "cell_type": "markdown",
   "metadata": {},
   "source": [
    "## Preprocess the D4 emails and split them into document chunks"
   ]
  },
  {
   "cell_type": "code",
   "execution_count": 6,
   "metadata": {},
   "outputs": [
    {
     "name": "stderr",
     "output_type": "stream",
     "text": [
      "C:\\Users\\jim\\AppData\\Local\\Temp\\ipykernel_5248\\602127366.py:6: LangChainDeprecationWarning: The class `OpenAIEmbeddings` was deprecated in LangChain 0.0.9 and will be removed in 1.0. An updated version of the class exists in the :class:`~langchain-openai package and should be used instead. To use it run `pip install -U :class:`~langchain-openai` and import as `from :class:`~langchain_openai import OpenAIEmbeddings``.\n",
      "  embeddings = OpenAIEmbeddings(model=\"text-embedding-3-large\")\n"
     ]
    }
   ],
   "source": [
    "# Preprocess the d4_emails.csv file\n",
    "preprocess_d4_emails(d4_emails_file, d4_emails_responses_file)\n",
    "\n",
    "# Split the emails into document chunks\n",
    "docs, uuids = split_docs(d4_emails_responses_file)\n",
    "\n",
    "# Check the first document\n",
    "print(docs[0].page_content, docs[0].metadata)"
   ]
  },
  {
   "cell_type": "markdown",
   "metadata": {},
   "source": [
    "## Load the document chunks into the vector store"
   ]
  },
  {
   "cell_type": "code",
   "execution_count": 7,
   "metadata": {},
   "outputs": [
    {
     "name": "stdout",
     "output_type": "stream",
     "text": [
      "Creating vector store at ../chroma_db\n"
     ]
    }
   ],
   "source": [
    "# NOTE: This cell kills the kernel if run more than once on the same Chroma DB\n",
    "# You can delete the chroma_db directory if you want to start from a clean slate\n",
    "\n",
    "# Create the vector_store with the data from the preprocessed csv file\n",
    "load_vectorstore_docs(docs=docs, uuids=uuids, embeddings=embeddings)\n"
   ]
  },
  {
   "cell_type": "markdown",
   "metadata": {},
   "source": [
    "## Perform various queries on the vector store"
   ]
  },
  {
   "cell_type": "code",
   "execution_count": 9,
   "metadata": {},
   "outputs": [
    {
     "name": "stderr",
     "output_type": "stream",
     "text": [
      "C:\\Users\\jim\\AppData\\Local\\Temp\\ipykernel_5248\\1872479170.py:2: LangChainDeprecationWarning: The class `Chroma` was deprecated in LangChain 0.2.9 and will be removed in 1.0. An updated version of the class exists in the :class:`~langchain-chroma package and should be used instead. To use it run `pip install -U :class:`~langchain-chroma` and import as `from :class:`~langchain_chroma import Chroma``.\n",
      "  return Chroma(embedding_function=embeddings, persist_directory=persist_directory)\n"
     ]
    },
    {
     "data": {
      "text/plain": [
       "{'ids': ['d4_emails_responses_0'],\n",
       " 'embeddings': None,\n",
       " 'documents': [\"affected_address: 6864 East Bucknell Place\\ncase_number: 0\\ndate: 2024-08-05\\nconstituent_email_1: The lack of police presence and code enforcement is sending a growing message that these violations are not important…and that reckless behavior is not of great concern. Second item: affordable denver and wanting more information about how the tax will accomplish the goals set by Mayor.\\nd4_response_1: Good morning Ron, \\n\\nThank you for reaching out, and I apologize for the delayed response. Council Pro Tem Romero Campbell maintains regular communication with DPD District 3, which serves Southeast Denver. We have a strong relationship with Commander Bell and Chief Thomas, consistently supporting DPD's resource and policy needs. With budget season approaching, we carefully consider input from our officers during council votes.\\nWe also attend monthly community advisory board meetings to address concerns. For more details on DPD’s recruitment and specific traffic enforcement, I recommend reaching out to them directly at 3.Dist@denvergov.org.\\nRegarding the Mayor’s affordable housing tax initiative, we supported sending it to the ballot for Denver residents to vote on in November. For more information, you can contact the Mayor's office at 720-865-9000 or visit their website. Thank you.\\ntopics: Police,Policy\"],\n",
       " 'uris': None,\n",
       " 'data': None,\n",
       " 'metadatas': [{'row': 0, 'source': '../resources/d4_emails_responses.csv'}],\n",
       " 'included': [<IncludeEnum.documents: 'documents'>,\n",
       "  <IncludeEnum.metadatas: 'metadatas'>]}"
      ]
     },
     "execution_count": 9,
     "metadata": {},
     "output_type": "execute_result"
    }
   ],
   "source": [
    "# Get the first document from the vector store by id\n",
    "vector_store = get_vector_store(embeddings=embeddings)\n",
    "vector_store.get([uuids[0]])"
   ]
  },
  {
   "cell_type": "code",
   "execution_count": 10,
   "metadata": {},
   "outputs": [
    {
     "data": {
      "text/plain": [
       "{'ids': ['d4_emails_responses_0'],\n",
       " 'embeddings': None,\n",
       " 'documents': [\"affected_address: 6864 East Bucknell Place\\ncase_number: 0\\ndate: 2024-08-05\\nconstituent_email_1: The lack of police presence and code enforcement is sending a growing message that these violations are not important…and that reckless behavior is not of great concern. Second item: affordable denver and wanting more information about how the tax will accomplish the goals set by Mayor.\\nd4_response_1: Good morning Ron, \\n\\nThank you for reaching out, and I apologize for the delayed response. Council Pro Tem Romero Campbell maintains regular communication with DPD District 3, which serves Southeast Denver. We have a strong relationship with Commander Bell and Chief Thomas, consistently supporting DPD's resource and policy needs. With budget season approaching, we carefully consider input from our officers during council votes.\\nWe also attend monthly community advisory board meetings to address concerns. For more details on DPD’s recruitment and specific traffic enforcement, I recommend reaching out to them directly at 3.Dist@denvergov.org.\\nRegarding the Mayor’s affordable housing tax initiative, we supported sending it to the ballot for Denver residents to vote on in November. For more information, you can contact the Mayor's office at 720-865-9000 or visit their website. Thank you.\\ntopics: Police,Policy\"],\n",
       " 'uris': None,\n",
       " 'data': None,\n",
       " 'metadatas': [{'row': 0, 'source': '../resources/d4_emails_responses.csv'}],\n",
       " 'included': [<IncludeEnum.documents: 'documents'>,\n",
       "  <IncludeEnum.metadatas: 'metadatas'>]}"
      ]
     },
     "execution_count": 10,
     "metadata": {},
     "output_type": "execute_result"
    }
   ],
   "source": [
    "# Query the vector store by csv row number\n",
    "vector_store.get(where={\"row\": 0})"
   ]
  },
  {
   "cell_type": "code",
   "execution_count": 11,
   "metadata": {},
   "outputs": [
    {
     "data": {
      "text/plain": [
       "'d4_emails_responses_1'"
      ]
     },
     "execution_count": 11,
     "metadata": {},
     "output_type": "execute_result"
    }
   ],
   "source": [
    "# Get the ids portion of the document returned by the query\n",
    "vector_store.get(where={\"row\": 1})['ids'][0]"
   ]
  },
  {
   "cell_type": "code",
   "execution_count": 15,
   "metadata": {},
   "outputs": [
    {
     "name": "stdout",
     "output_type": "stream",
     "text": [
      "* affected_address: Dahlia & High Line intersection\n",
      "case_number: 0\n",
      "date: 2024-08-19\n",
      "constituent_email_1: I would like to know if there is a possible to put a yellow flashing pedestrian light on Dahlia and the intersection of the Highline Canal.. Also is there aywya that a turn signal could be implemented at Hampden and Dahlia?\n",
      "d4_response_1: Thank you for reaching out to our office.  The area engineers have looked at this intersection where the High Line Canal crosses Dahlia multiple times at our request and have determined that a flashing signal is not warranted at this location.  However, they are looking at better signage and clearer striping for this crossing.  Councilwoman Romero Campbell will continue to advocate for this in her quarterly meetings with the area engineers.\n",
      "\n",
      "Please report the overgrown vegetation to 311.  By reporting this online the case will be reviewed by Forestry and put on the list for a trimming if necessary.\n",
      "\n",
      "The intersection at Dahlia and Happy Canyon is being studied by Denver's Department of Infrastructure and Transportation (DOTI) and the Colorado Department of Transportation (because Hampden is a State Highway).  This is a complicated and expensive intersection to make safer and there is not funding committed for this project.  However, your feedback is important for Councilwoman Romero Campbell to continue to advocate for safety improvement  at this location.\n",
      "topics: Transit [{'row': 1, 'source': '../resources/d4_emails_responses.csv'}]\n",
      "* affected_address: Quincy and DTC/Tamarac to Monaco\n",
      "case_number: 0\n",
      "date: 2024-08-28\n",
      "constituent_email_1: Concern about the plants, cement, etc. on the intersection.\n",
      "d4_response_1: Laura Wigger & Ted Berg both responded: (Ted on 9/3) The Hawthorns that are dead are very small trees, the likelihood of failure is improbable and the likelihood of them impacting a target is very low.  With the recent vacancies in forestry and budget cuts of not filling those positions has left us short staffed and this is a very low priority.  These trees are on our list for removal in the future. (Laura on 8/30): These medians are native grass stands that are under a median maintenance contract. The contractor is following our native/open space mowing standard which is to mow 3x/year.  I agree the weed control of prickly lettuce in these areas could improve but our mowing schedule will need to be consistent with other DPR native areas.  Our last scheduled mow is coming up around mid-September.  I spoke with Ted Berg, our Forestry supervisor, last fall and the dead Hawthorne removal is on his radar.  I have CC’d him here. I am also looping in Travis Reynolds.  He has taken over as the Yale supervisor and I have moved to a new subdistrict within East.  He is now overseeing these medians along Quincy.\n",
      " \n",
      "Ted – do you have a time frame for the removal of the dead Hawthorn’s on Quincy?\n",
      " \n",
      "Travis – we will likely need to supplement the some of the contract work.  Let’s plan a time for the horticulturists to knock out some selective weed control on these medians.\n",
      "topics: Transit [{'row': 12, 'source': '../resources/d4_emails_responses.csv'}]\n",
      "* affected_address: Amherst and Quebec bus stop\n",
      "case_number: 0\n",
      "date: 2024-09-13\n",
      "constituent_email_1: I have reported this problem to the city of Denver and they have not taken any action. They responded that the \"Neighborhood Inspection\" has a case open. If that is the case then they are doing nothing. Could you follow up on this? At the bus stop #16145 (Amherst and Quebec northbound) there are a ton of overgrown sunflowers all over the sidewalk and around the bus stop. That is my preferred bus stop but I cannot use it because of all the bees surrounding the bus stop because the property owner or the city or both refuse to trim back the vegetation. I have to trek all the way up to Yale and Quebec to avoid getting stung. Also, is anyone were in a wheelchair they would NEVER be able to get through. I am contacting RTD as well. I know it is a long shot, but the courtesy of a reply is appreciated to know you have received this request.\n",
      "d4_response_1: I have reported this to 311 using the address of the property adjacent to the bus stop and sunflowers. Hopefully with two complaints something will get done.  I know that these types of citations can take up to a month to address.\n",
      "topics: Neighborhood,Vegitation [{'row': 27, 'source': '../resources/d4_emails_responses.csv'}]\n"
     ]
    }
   ],
   "source": [
    "# Perform a similarity search\n",
    "results = vector_store.similarity_search(\n",
    "    \"Dahlia & High Line intersection\",\n",
    "    k=3,\n",
    "    #filter={\"row\": 12},\n",
    ")\n",
    "for res in results:\n",
    "    print(f\"* {res.page_content} [{res.metadata}]\")"
   ]
  }
 ],
 "metadata": {
  "kernelspec": {
   "display_name": ".venv",
   "language": "python",
   "name": "python3"
  },
  "language_info": {
   "codemirror_mode": {
    "name": "ipython",
    "version": 3
   },
   "file_extension": ".py",
   "mimetype": "text/x-python",
   "name": "python",
   "nbconvert_exporter": "python",
   "pygments_lexer": "ipython3",
   "version": "3.11.10"
  }
 },
 "nbformat": 4,
 "nbformat_minor": 2
}
