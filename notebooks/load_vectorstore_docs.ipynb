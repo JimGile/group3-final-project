{
 "cells": [
  {
   "cell_type": "code",
   "execution_count": 1,
   "metadata": {},
   "outputs": [],
   "source": [
    "from langchain_community.document_loaders.csv_loader import CSVLoader\n",
    "from langchain_core.output_parsers import StrOutputParser\n",
    "from langchain.text_splitter import RecursiveCharacterTextSplitter\n",
    "from langchain.embeddings.openai import OpenAIEmbeddings\n",
    "from langchain.vectorstores import Chroma\n",
    "import pandas as pd"
   ]
  },
  {
   "cell_type": "code",
   "execution_count": 2,
   "metadata": {},
   "outputs": [],
   "source": [
    "# Remove unwanted columns before loading into vectorstore\n",
    "columns_to_drop = ['name', 'email_address', 'd4_staff_member', 'constituent_email_2', 'd4_response_2']\n",
    "d4_emails_df = pd.read_csv('../resources/d4_emails_topics.csv')\n",
    "d4_emails_df = d4_emails_df.drop(columns=columns_to_drop)\n",
    "d4_emails_df.to_csv('../resources/d4_emails_responses.csv', index=False)"
   ]
  },
  {
   "cell_type": "code",
   "execution_count": 3,
   "metadata": {},
   "outputs": [
    {
     "name": "stdout",
     "output_type": "stream",
     "text": [
      "page_content='affected_address: 6864 East Bucknell Place\n",
      "case_number: 0\n",
      "date: 2024-08-05\n",
      "constituent_email_1: The lack of police presence and code enforcement is sending a growing message that these violations are not important…and that reckless behavior is not of great concern. Second item: affordable denver and wanting more information about how the tax will accomplish the goals set by Mayor.\n",
      "d4_response_1: Good morning Ron, \n",
      "\n",
      "Thank you for reaching out, and I apologize for the delayed response. Council Pro Tem Romero Campbell maintains regular communication with DPD District 3, which serves Southeast Denver. We have a strong relationship with Commander Bell and Chief Thomas, consistently supporting DPD's resource and policy needs. With budget season approaching, we carefully consider input from our officers during council votes.\n",
      "We also attend monthly community advisory board meetings to address concerns. For more details on DPD’s recruitment and specific traffic enforcement, I recommend reaching out to them directly at 3.Dist@denvergov.org.\n",
      "Regarding the Mayor’s affordable housing tax initiative, we supported sending it to the ballot for Denver residents to vote on in November. For more information, you can contact the Mayor's office at 720-865-9000 or visit their website. Thank you.\n",
      "topics: Police,Policy' metadata={'source': '../resources/d4_emails_responses.csv', 'row': 0}\n"
     ]
    }
   ],
   "source": [
    "# Create a document loader for fifa_countries_audience.csv\n",
    "loader = CSVLoader('../resources/d4_emails_responses.csv', encoding='utf-8')\n",
    "\n",
    "# Load the document\n",
    "data = loader.load()\n",
    "data\n",
    "print(data[0])"
   ]
  },
  {
   "cell_type": "code",
   "execution_count": 4,
   "metadata": {},
   "outputs": [
    {
     "name": "stdout",
     "output_type": "stream",
     "text": [
      "affected_address: 6864 East Bucknell Place\n",
      "case_number: 0\n",
      "date: 2024-08-05\n",
      "constituent_email_1: The lack of police presence and code enforcement is sending a growing message that these violations are not important…and that reckless behavior is not of great concern. Second item: affordable denver and wanting more information about how the tax will accomplish the goals set by Mayor.\n",
      "d4_response_1: Good morning Ron, \n",
      "\n",
      "Thank you for reaching out, and I apologize for the delayed response. Council Pro Tem Romero Campbell maintains regular communication with DPD District 3, which serves Southeast Denver. We have a strong relationship with Commander Bell and Chief Thomas, consistently supporting DPD's resource and policy needs. With budget season approaching, we carefully consider input from our officers during council votes.\n",
      "We also attend monthly community advisory board meetings to address concerns. For more details on DPD’s recruitment and specific traffic enforcement, I recommend reaching out to them directly at 3.Dist@denvergov.org.\n",
      "Regarding the Mayor’s affordable housing tax initiative, we supported sending it to the ballot for Denver residents to vote on in November. For more information, you can contact the Mayor's office at 720-865-9000 or visit their website. Thank you.\n",
      "topics: Police,Policy\n"
     ]
    }
   ],
   "source": [
    "# Split the documents into chunks\n",
    "chunk_size = 5000\n",
    "chunk_overlap = 100\n",
    "\n",
    "# Create an instance of the splitter class\n",
    "splitter = RecursiveCharacterTextSplitter(\n",
    "    separators=[\"\\n\", \" \", \"\"],\n",
    "    chunk_size=chunk_size,\n",
    "    chunk_overlap=chunk_overlap,\n",
    ")\n",
    "\n",
    "# Split the document and print the chunks\n",
    "docs = splitter.split_documents(data)\n",
    "print(docs[0].page_content)\n",
    "#print([len(doc) for doc in docs])"
   ]
  },
  {
   "cell_type": "code",
   "execution_count": 5,
   "metadata": {},
   "outputs": [
    {
     "name": "stderr",
     "output_type": "stream",
     "text": [
      "C:\\Users\\jim\\AppData\\Local\\Temp\\ipykernel_13024\\1955632627.py:2: LangChainDeprecationWarning: The class `OpenAIEmbeddings` was deprecated in LangChain 0.0.9 and will be removed in 1.0. An updated version of the class exists in the :class:`~langchain-openai package and should be used instead. To use it run `pip install -U :class:`~langchain-openai` and import as `from :class:`~langchain_openai import OpenAIEmbeddings``.\n",
      "  embeddings = OpenAIEmbeddings()\n"
     ]
    }
   ],
   "source": [
    "# Create an instance of the embedding class\n",
    "embeddings = OpenAIEmbeddings()\n",
    "\n",
    "# Create the vector_store with the documents\n",
    "vector_store = Chroma.from_documents(\n",
    "    docs,\n",
    "    embeddings,\n",
    "    persist_directory='../chroma_db'\n",
    ")\n",
    "\n",
    "# Save the vector_store to disk\n",
    "# vector_store.persist()"
   ]
  }
 ],
 "metadata": {
  "kernelspec": {
   "display_name": ".venv",
   "language": "python",
   "name": "python3"
  },
  "language_info": {
   "codemirror_mode": {
    "name": "ipython",
    "version": 3
   },
   "file_extension": ".py",
   "mimetype": "text/x-python",
   "name": "python",
   "nbconvert_exporter": "python",
   "pygments_lexer": "ipython3",
   "version": "3.11.10"
  }
 },
 "nbformat": 4,
 "nbformat_minor": 2
}
